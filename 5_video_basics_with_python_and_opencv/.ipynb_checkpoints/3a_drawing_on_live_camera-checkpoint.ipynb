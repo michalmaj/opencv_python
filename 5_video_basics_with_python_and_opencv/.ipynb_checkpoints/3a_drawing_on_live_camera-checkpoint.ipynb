{
 "cells": [
  {
   "cell_type": "code",
   "execution_count": 6,
   "metadata": {},
   "outputs": [
    {
     "name": "stdout",
     "output_type": "stream",
     "text": [
      "640\n"
     ]
    }
   ],
   "source": [
    "import cv2\n",
    "\n",
    "# utworzenie obiektu wideo\n",
    "cap = cv2.VideoCapture(0)\n",
    "\n",
    "# przechwycenie szerokości i wysokości\n",
    "width = int(cap.get(cv2.CAP_PROP_FRAME_WIDTH))\n",
    "height = int(cap.get(cv2.CAP_PROP_FRAME_HEIGHT))\n",
    "\n",
    "# lewy górny róg\n",
    "x = width // 2\n",
    "y = height // 2\n",
    "\n",
    "# szerokość i wysokość prostokąta\n",
    "w = width // 4\n",
    "h = height // 4\n",
    "\n",
    "# prawy dolny róg: x + w, y + h\n",
    "\n",
    "print(width)\n",
    "while True:\n",
    "    \n",
    "    ret, frame = cap.read()\n",
    "    \n",
    "    cv2.rectangle(frame,pt1=(x,y),pt2=(x+w,y+h),color=(0,0,255),thickness=5)\n",
    "    \n",
    "    cv2.imshow('frame', frame)\n",
    "    \n",
    "    if cv2.waitKey(10) & 0xFF == ord('q'):\n",
    "        break \n",
    "        \n",
    "\n",
    "\n",
    "cap.release()\n",
    "cv2.destroyAllWindows()"
   ]
  },
  {
   "cell_type": "code",
   "execution_count": null,
   "metadata": {},
   "outputs": [],
   "source": []
  }
 ],
 "metadata": {
  "kernelspec": {
   "display_name": "Python 3",
   "language": "python",
   "name": "python3"
  },
  "language_info": {
   "codemirror_mode": {
    "name": "ipython",
    "version": 3
   },
   "file_extension": ".py",
   "mimetype": "text/x-python",
   "name": "python",
   "nbconvert_exporter": "python",
   "pygments_lexer": "ipython3",
   "version": "3.6.6"
  }
 },
 "nbformat": 4,
 "nbformat_minor": 2
}
