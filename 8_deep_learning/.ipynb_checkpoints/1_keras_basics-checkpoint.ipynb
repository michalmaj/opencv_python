{
 "cells": [
  {
   "cell_type": "code",
   "execution_count": 58,
   "metadata": {},
   "outputs": [],
   "source": [
    "import numpy as np\n",
    "from numpy import genfromtxt\n",
    "\n",
    "# do podziału na zbiór testowy i trenigowy\n",
    "from sklearn.model_selection import train_test_split\n",
    "\n",
    "# do skalowania danych\n",
    "from sklearn.preprocessing import MinMaxScaler\n",
    "\n",
    "# do budowania podstawowej sieci neuronowej\n",
    "from  keras.models import Sequential\n",
    "from keras.layers import Dense\n",
    "\n",
    "# do ewaluacji modelu\n",
    "from sklearn.metrics import confusion_matrix, classification_report"
   ]
  },
  {
   "cell_type": "code",
   "execution_count": 24,
   "metadata": {},
   "outputs": [
    {
     "data": {
      "text/plain": [
       "array([[  3.6216 ,   8.6661 ,  -2.8073 ,  -0.44699,   0.     ],\n",
       "       [  4.5459 ,   8.1674 ,  -2.4586 ,  -1.4621 ,   0.     ],\n",
       "       [  3.866  ,  -2.6383 ,   1.9242 ,   0.10645,   0.     ],\n",
       "       ...,\n",
       "       [ -3.7503 , -13.4586 ,  17.5932 ,  -2.7771 ,   1.     ],\n",
       "       [ -3.5637 ,  -8.3827 ,  12.393  ,  -1.2823 ,   1.     ],\n",
       "       [ -2.5419 ,  -0.65804,   2.6842 ,   1.1952 ,   1.     ]])"
      ]
     },
     "execution_count": 24,
     "metadata": {},
     "output_type": "execute_result"
    }
   ],
   "source": [
    "# zera w ostatniej kolumnie oznaczaja, że fałszywe dane\n",
    "# jedynki oznaczają prawdziwe dane\n",
    "# w tm przypadku są to etykiety lub klasy\n",
    "data"
   ]
  },
  {
   "cell_type": "code",
   "execution_count": 25,
   "metadata": {},
   "outputs": [
    {
     "data": {
      "text/plain": [
       "(1372, 5)"
      ]
     },
     "execution_count": 25,
     "metadata": {},
     "output_type": "execute_result"
    }
   ],
   "source": [
    "data.shape"
   ]
  },
  {
   "cell_type": "code",
   "execution_count": 26,
   "metadata": {},
   "outputs": [],
   "source": [
    "# podział danych na etykiety (labels) i cechy (features)"
   ]
  },
  {
   "cell_type": "code",
   "execution_count": 27,
   "metadata": {},
   "outputs": [],
   "source": [
    "labels = data[:,4]"
   ]
  },
  {
   "cell_type": "code",
   "execution_count": 28,
   "metadata": {},
   "outputs": [
    {
     "data": {
      "text/plain": [
       "array([0., 0., 0., ..., 1., 1., 1.])"
      ]
     },
     "execution_count": 28,
     "metadata": {},
     "output_type": "execute_result"
    }
   ],
   "source": [
    "labels"
   ]
  },
  {
   "cell_type": "code",
   "execution_count": 29,
   "metadata": {},
   "outputs": [],
   "source": [
    "features = data[:,0:4]"
   ]
  },
  {
   "cell_type": "code",
   "execution_count": 30,
   "metadata": {},
   "outputs": [
    {
     "data": {
      "text/plain": [
       "array([[  3.6216 ,   8.6661 ,  -2.8073 ,  -0.44699],\n",
       "       [  4.5459 ,   8.1674 ,  -2.4586 ,  -1.4621 ],\n",
       "       [  3.866  ,  -2.6383 ,   1.9242 ,   0.10645],\n",
       "       ...,\n",
       "       [ -3.7503 , -13.4586 ,  17.5932 ,  -2.7771 ],\n",
       "       [ -3.5637 ,  -8.3827 ,  12.393  ,  -1.2823 ],\n",
       "       [ -2.5419 ,  -0.65804,   2.6842 ,   1.1952 ]])"
      ]
     },
     "execution_count": 30,
     "metadata": {},
     "output_type": "execute_result"
    }
   ],
   "source": [
    "features"
   ]
  },
  {
   "cell_type": "code",
   "execution_count": 31,
   "metadata": {},
   "outputs": [],
   "source": [
    "# podzaił na zbiór testowy i treningowy:"
   ]
  },
  {
   "cell_type": "code",
   "execution_count": 32,
   "metadata": {},
   "outputs": [],
   "source": [
    "X = features\n",
    "y = labels"
   ]
  },
  {
   "cell_type": "code",
   "execution_count": 33,
   "metadata": {},
   "outputs": [
    {
     "data": {
      "text/plain": [
       "<function sklearn.model_selection._split.train_test_split(*arrays, **options)>"
      ]
     },
     "execution_count": 33,
     "metadata": {},
     "output_type": "execute_result"
    }
   ],
   "source": [
    "train_test_split # shift-tab"
   ]
  },
  {
   "cell_type": "code",
   "execution_count": 34,
   "metadata": {},
   "outputs": [],
   "source": [
    "X_train, X_test, y_train, y_test = train_test_split(X, y, test_size=0.33, random_state=42)"
   ]
  },
  {
   "cell_type": "code",
   "execution_count": 38,
   "metadata": {},
   "outputs": [],
   "source": [
    "# skalowanie danych:"
   ]
  },
  {
   "cell_type": "code",
   "execution_count": 39,
   "metadata": {},
   "outputs": [],
   "source": [
    "scaler_object = MinMaxScaler()"
   ]
  },
  {
   "cell_type": "code",
   "execution_count": 40,
   "metadata": {},
   "outputs": [
    {
     "data": {
      "text/plain": [
       "MinMaxScaler(copy=True, feature_range=(0, 1))"
      ]
     },
     "execution_count": 40,
     "metadata": {},
     "output_type": "execute_result"
    }
   ],
   "source": [
    "scaler_object.fit(X_train)"
   ]
  },
  {
   "cell_type": "code",
   "execution_count": 41,
   "metadata": {},
   "outputs": [],
   "source": [
    "scaled_X_train = scaler_object.transform(X_train)"
   ]
  },
  {
   "cell_type": "code",
   "execution_count": 43,
   "metadata": {},
   "outputs": [],
   "source": [
    "scaled_X_test = scaler_object.transform(X_test)"
   ]
  },
  {
   "cell_type": "code",
   "execution_count": 47,
   "metadata": {},
   "outputs": [],
   "source": [
    "# budowanie modelu:"
   ]
  },
  {
   "cell_type": "code",
   "execution_count": 48,
   "metadata": {},
   "outputs": [],
   "source": [
    "model = Sequential()"
   ]
  },
  {
   "cell_type": "code",
   "execution_count": 51,
   "metadata": {},
   "outputs": [],
   "source": [
    "# dodawnie warstw\n",
    "model.add(Dense(4,input_dim=4,activation='relu'))\n",
    "\n",
    "model.add(Dense(8,activation='relu'))\n",
    "\n",
    "model.add(Dense(1,activation='sigmoid'))"
   ]
  },
  {
   "cell_type": "code",
   "execution_count": 52,
   "metadata": {},
   "outputs": [],
   "source": [
    "model.compile(loss='binary_crossentropy',optimizer='adam',metrics=['accuracy'])"
   ]
  },
  {
   "cell_type": "code",
   "execution_count": 53,
   "metadata": {},
   "outputs": [
    {
     "name": "stdout",
     "output_type": "stream",
     "text": [
      "Epoch 1/50\n",
      " - 1s - loss: 0.6903 - acc: 0.5495\n",
      "Epoch 2/50\n",
      " - 0s - loss: 0.6885 - acc: 0.5495\n",
      "Epoch 3/50\n",
      " - 0s - loss: 0.6882 - acc: 0.5495\n",
      "Epoch 4/50\n",
      " - 0s - loss: 0.6884 - acc: 0.5495\n",
      "Epoch 5/50\n",
      " - 0s - loss: 0.6878 - acc: 0.5495\n",
      "Epoch 6/50\n",
      " - 0s - loss: 0.6873 - acc: 0.5495\n",
      "Epoch 7/50\n",
      " - 0s - loss: 0.6862 - acc: 0.5495\n",
      "Epoch 8/50\n",
      " - 0s - loss: 0.6845 - acc: 0.5495\n",
      "Epoch 9/50\n",
      " - 0s - loss: 0.6821 - acc: 0.5495\n",
      "Epoch 10/50\n",
      " - 0s - loss: 0.6791 - acc: 0.5495\n",
      "Epoch 11/50\n",
      " - 0s - loss: 0.6750 - acc: 0.5495\n",
      "Epoch 12/50\n",
      " - 0s - loss: 0.6685 - acc: 0.5495\n",
      "Epoch 13/50\n",
      " - 0s - loss: 0.6572 - acc: 0.5495\n",
      "Epoch 14/50\n",
      " - 0s - loss: 0.6404 - acc: 0.5495\n",
      "Epoch 15/50\n",
      " - 0s - loss: 0.6112 - acc: 0.5495\n",
      "Epoch 16/50\n",
      " - 0s - loss: 0.5678 - acc: 0.7661\n",
      "Epoch 17/50\n",
      " - 0s - loss: 0.5182 - acc: 0.8390\n",
      "Epoch 18/50\n",
      " - 0s - loss: 0.4687 - acc: 0.8683\n",
      "Epoch 19/50\n",
      " - 0s - loss: 0.4231 - acc: 0.9032\n",
      "Epoch 20/50\n",
      " - 0s - loss: 0.3879 - acc: 0.9108\n",
      "Epoch 21/50\n",
      " - 0s - loss: 0.3571 - acc: 0.9293\n",
      "Epoch 22/50\n",
      " - 0s - loss: 0.3308 - acc: 0.9434\n",
      "Epoch 23/50\n",
      " - 0s - loss: 0.3038 - acc: 0.9543\n",
      "Epoch 24/50\n",
      " - 0s - loss: 0.2806 - acc: 0.9608\n",
      "Epoch 25/50\n",
      " - 0s - loss: 0.2565 - acc: 0.9663\n",
      "Epoch 26/50\n",
      " - 0s - loss: 0.2353 - acc: 0.9739\n",
      "Epoch 27/50\n",
      " - 0s - loss: 0.2171 - acc: 0.9728\n",
      "Epoch 28/50\n",
      " - 0s - loss: 0.1998 - acc: 0.9739\n",
      "Epoch 29/50\n",
      " - 0s - loss: 0.1842 - acc: 0.9771\n",
      "Epoch 30/50\n",
      " - 0s - loss: 0.1692 - acc: 0.9793\n",
      "Epoch 31/50\n",
      " - 0s - loss: 0.1565 - acc: 0.9815\n",
      "Epoch 32/50\n",
      " - 0s - loss: 0.1443 - acc: 0.9837\n",
      "Epoch 33/50\n",
      " - 0s - loss: 0.1319 - acc: 0.9815\n",
      "Epoch 34/50\n",
      " - 0s - loss: 0.1202 - acc: 0.9859\n",
      "Epoch 35/50\n",
      " - 0s - loss: 0.1122 - acc: 0.9826\n",
      "Epoch 36/50\n",
      " - 0s - loss: 0.1016 - acc: 0.9815\n",
      "Epoch 37/50\n",
      " - 0s - loss: 0.0935 - acc: 0.9826\n",
      "Epoch 38/50\n",
      " - 0s - loss: 0.0910 - acc: 0.9750\n",
      "Epoch 39/50\n",
      " - 0s - loss: 0.0797 - acc: 0.9859\n",
      "Epoch 40/50\n",
      " - 0s - loss: 0.0758 - acc: 0.9837\n",
      "Epoch 41/50\n",
      " - 0s - loss: 0.0682 - acc: 0.9859\n",
      "Epoch 42/50\n",
      " - 0s - loss: 0.0646 - acc: 0.9869\n",
      "Epoch 43/50\n",
      " - 0s - loss: 0.0643 - acc: 0.9859\n",
      "Epoch 44/50\n",
      " - 0s - loss: 0.0559 - acc: 0.9891\n",
      "Epoch 45/50\n",
      " - 0s - loss: 0.0532 - acc: 0.9859\n",
      "Epoch 46/50\n",
      " - 0s - loss: 0.0517 - acc: 0.9837\n",
      "Epoch 47/50\n",
      " - 0s - loss: 0.0502 - acc: 0.9880\n",
      "Epoch 48/50\n",
      " - 0s - loss: 0.0448 - acc: 0.9869\n",
      "Epoch 49/50\n",
      " - 0s - loss: 0.0446 - acc: 0.9826\n",
      "Epoch 50/50\n",
      " - 0s - loss: 0.0420 - acc: 0.9869\n"
     ]
    },
    {
     "data": {
      "text/plain": [
       "<keras.callbacks.History at 0x1faee02cf28>"
      ]
     },
     "execution_count": 53,
     "metadata": {},
     "output_type": "execute_result"
    }
   ],
   "source": [
    "# trenowanie modelu:\n",
    "model.fit(scaled_X_train,y_train,epochs=50,verbose=2)"
   ]
  },
  {
   "cell_type": "code",
   "execution_count": 55,
   "metadata": {},
   "outputs": [],
   "source": [
    "# testowanie modelu na testowym zbiorze danych:"
   ]
  },
  {
   "cell_type": "code",
   "execution_count": 59,
   "metadata": {},
   "outputs": [],
   "source": [
    "# predykcja testowych danych:\n",
    "predictions = model.predict_classes(scaled_X_test)"
   ]
  },
  {
   "cell_type": "code",
   "execution_count": 60,
   "metadata": {},
   "outputs": [
    {
     "data": {
      "text/plain": [
       "['loss', 'acc']"
      ]
     },
     "execution_count": 60,
     "metadata": {},
     "output_type": "execute_result"
    }
   ],
   "source": [
    "# ewaluacja modelu:\n",
    "model.metrics_names"
   ]
  },
  {
   "cell_type": "code",
   "execution_count": 61,
   "metadata": {},
   "outputs": [
    {
     "data": {
      "text/plain": [
       "array([[253,   4],\n",
       "       [  2, 194]], dtype=int64)"
      ]
     },
     "execution_count": 61,
     "metadata": {},
     "output_type": "execute_result"
    }
   ],
   "source": [
    "confusion_matrix(y_test,predictions)"
   ]
  },
  {
   "cell_type": "code",
   "execution_count": 62,
   "metadata": {},
   "outputs": [
    {
     "name": "stdout",
     "output_type": "stream",
     "text": [
      "             precision    recall  f1-score   support\n",
      "\n",
      "        0.0       0.99      0.98      0.99       257\n",
      "        1.0       0.98      0.99      0.98       196\n",
      "\n",
      "avg / total       0.99      0.99      0.99       453\n",
      "\n"
     ]
    }
   ],
   "source": [
    "print(classification_report(y_test,predictions))"
   ]
  },
  {
   "cell_type": "code",
   "execution_count": 63,
   "metadata": {},
   "outputs": [],
   "source": [
    "# zapisywanie modelu:\n",
    "model.save('mysupermodel.h5')"
   ]
  },
  {
   "cell_type": "code",
   "execution_count": 64,
   "metadata": {},
   "outputs": [],
   "source": [
    "# wczytywanie modelu:\n",
    "from keras.models import load_model"
   ]
  },
  {
   "cell_type": "code",
   "execution_count": 65,
   "metadata": {},
   "outputs": [],
   "source": [
    "new_model = load_model('mysupermodel.h5')"
   ]
  },
  {
   "cell_type": "code",
   "execution_count": null,
   "metadata": {},
   "outputs": [],
   "source": []
  }
 ],
 "metadata": {
  "kernelspec": {
   "display_name": "Python 3",
   "language": "python",
   "name": "python3"
  },
  "language_info": {
   "codemirror_mode": {
    "name": "ipython",
    "version": 3
   },
   "file_extension": ".py",
   "mimetype": "text/x-python",
   "name": "python",
   "nbconvert_exporter": "python",
   "pygments_lexer": "ipython3",
   "version": "3.6.6"
  }
 },
 "nbformat": 4,
 "nbformat_minor": 2
}
